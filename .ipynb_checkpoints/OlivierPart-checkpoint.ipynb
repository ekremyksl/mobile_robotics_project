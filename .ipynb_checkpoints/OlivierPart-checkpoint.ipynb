{
 "cells": [
  {
   "cell_type": "markdown",
   "id": "b561c73f",
   "metadata": {},
   "source": [
    "# Shortest Path Computation"
   ]
  },
  {
   "cell_type": "markdown",
   "id": "2457d022",
   "metadata": {},
   "source": [
    "## Theory"
   ]
  },
  {
   "cell_type": "markdown",
   "id": "39815b69",
   "metadata": {},
   "source": [
    "Once the visibility graph is found, Dijkstra's extended algorithm is used to compute the shortest path for the Thymio to reach the goal. Dijkstra's extended algorithm is chosen to ensure good perfermance for larger playing fields with a high number of obstacles compared to the original Dijkstra's algorithm. A* maintains a tree of paths originating at the start node and extending those paths one edge at a time until its termination criterion is satisfied. At each iteration of its main loop, the algorithm needs to determine which of its paths to extend. It does so based on the cost of the path and an estimate of the cost required to extend the path all the way to the goal. Specifically, A* selects the path that minimizes\n",
    "\n",
    "                            \n"
   ]
  },
  {
   "cell_type": "markdown",
   "id": "32a24eee",
   "metadata": {},
   "source": [
    "f(n)=g(n)+h(n)"
   ]
  },
  {
   "cell_type": "markdown",
   "id": "951dcd3a",
   "metadata": {},
   "source": [
    "where n is the next node on the path, g(n) is the cost of the path from the start node to n, and h(n) is a heuristic function that estimates the cost of the cheapest path from n to the goal. For this application, the cost of the path is defined as the distance between the current and next node, and the heuristic function is defined as the distance between the next node and the goal. However, for smaler playing fiels the heuristic function is not used, since in some cases it does not offer the optimal path.  \n"
   ]
  },
  {
   "cell_type": "markdown",
   "id": "4a73fcae",
   "metadata": {},
   "source": [
    "## Code"
   ]
  },
  {
   "cell_type": "markdown",
   "id": "0920908d",
   "metadata": {},
   "source": [
    "To implement A*, the functions Graph and find_path from the 'Dijkstar' library are used to create the graph and find the optimal path using the heuristics function. As input, 2 matrices (output of the visibility part) are used. The first one, A, showing the connectivity between each node (1=connected, 0=not connected) with the number one referring to the Thymio and the final number referring to the goal. The other matrix, B, is a tuple of every node in the graph with its respective x- and y-coordinate. The algorithm returns a list of the coordinates of the to follow nodes to reach the goal. The code is shown below for the same test case as displayed in the image from the vision section (red line = optimal path). "
   ]
  },
  {
   "cell_type": "code",
   "execution_count": 6,
   "id": "7540888d",
   "metadata": {},
   "outputs": [
    {
     "ename": "ModuleNotFoundError",
     "evalue": "No module named 'dijkstar'",
     "output_type": "error",
     "traceback": [
      "\u001b[1;31m---------------------------------------------------------------------------\u001b[0m",
      "\u001b[1;31mModuleNotFoundError\u001b[0m                       Traceback (most recent call last)",
      "\u001b[1;32m<ipython-input-6-e9c117f7ea2c>\u001b[0m in \u001b[0;36m<module>\u001b[1;34m\u001b[0m\n\u001b[1;32m----> 1\u001b[1;33m \u001b[1;32mfrom\u001b[0m \u001b[0mdijkstar\u001b[0m \u001b[1;32mimport\u001b[0m \u001b[0mGraph\u001b[0m\u001b[1;33m,\u001b[0m \u001b[0mfind_path\u001b[0m\u001b[1;33m\u001b[0m\u001b[1;33m\u001b[0m\u001b[0m\n\u001b[0m\u001b[0;32m      2\u001b[0m \u001b[1;32mimport\u001b[0m \u001b[0mmath\u001b[0m\u001b[1;33m\u001b[0m\u001b[1;33m\u001b[0m\u001b[0m\n\u001b[0;32m      3\u001b[0m \u001b[1;33m\u001b[0m\u001b[0m\n\u001b[0;32m      4\u001b[0m \u001b[1;31m# Test case: output of the code from the vision part\u001b[0m\u001b[1;33m\u001b[0m\u001b[1;33m\u001b[0m\u001b[1;33m\u001b[0m\u001b[0m\n\u001b[0;32m      5\u001b[0m A = [[0, 0, 1, 0, 0, 0, 0, 1, 1, 0, 0],\n",
      "\u001b[1;31mModuleNotFoundError\u001b[0m: No module named 'dijkstar'"
     ]
    }
   ],
   "source": [
    "python -m pip install dijkstar\n",
    "\n",
    "from dijkstar import Graph, find_path\n",
    "import math\n",
    "\n",
    "# Test case: output of the code from the vision part  \n",
    "A = [[0, 0, 1, 0, 0, 0, 0, 1, 1, 0, 0],\n",
    " [0, 0, 1, 0, 0, 0, 0, 0, 1, 1, 0],\n",
    " [1, 1, 0, 1, 0, 0, 0, 0, 1, 1, 0],\n",
    " [0, 0, 1, 0, 1, 0, 0, 0, 0, 0, 1],\n",
    " [0, 0, 0, 1, 0, 1, 0, 0, 0, 0, 1],\n",
    " [0, 0, 0, 0, 1, 0, 1, 0, 0, 0, 1],\n",
    " [0, 0, 0, 0, 0, 1, 0, 1, 0, 0, 0],\n",
    " [1, 0, 0, 0, 0, 0, 1, 0, 1, 0, 0],\n",
    " [1, 1, 1, 0, 0, 0, 0, 1, 0, 1, 0],\n",
    " [0, 1, 1, 0, 0, 0, 0, 0, 1, 0, 0],\n",
    " [0, 0, 0, 1, 1, 1, 0, 0, 0, 0, 0]]\n",
    "B = [(111.75, 308.25), \n",
    "     (273.48433987, 364.79555652), \n",
    "     (283.04082542, 398.92586205), \n",
    "     (382.1554383 , 383.67746007), \n",
    "     (417.76361232, 350.80837636), \n",
    "     (408.32829403, 132.44815304), \n",
    "     (271.48369722, 130.8382166 ), \n",
    "     (236.66422046, 157.92003186), \n",
    "     (229.79945072, 358.37130811),\n",
    "     (273.48433987, 364.79555652), \n",
    "     (576, 281)]\n",
    "\n",
    "# Calculation of the euclidean distance between each 2 nodes that can reach each other\n",
    "for i in range(0,len(A)):\n",
    "  for j in range(0,len(A)):\n",
    "      if A[i][j] !=0:\n",
    "        A[i][j] = math.sqrt((B[j][0]-B[i][0])**2 + (B[i][1]-B[j][1])**2)\n",
    "\n",
    "\n",
    "\n",
    "# Heursitic function: eucledian distance between node and goal \n",
    "# with u= current node, v= next node, edge= edge that connects u to v, and prev_edge= edge that was traversed previously.\n",
    "def heuristic_func(u, v, edge, prev_edge):\n",
    "  length_to_goal = math.sqrt((B[v][0]-B[-1][0])**2 + (B[v][1]-B[-1][1])**2)\n",
    "  return length_to_goal\n",
    "\n",
    "# Initialise graph\n",
    "graph = Graph()\n",
    "for i in range(0,len(A)):\n",
    "  for j in range(0,len(A)):\n",
    "    if A[i][j] != 0:\n",
    "      graph.add_edge(i, j, A[i][j])\n",
    "\n",
    "# Find the optimal path \n",
    "# with outputs nodes= optimal path, edges= optimal edges, costs= the costs (here equal to the edges) \n",
    "# and total_cost= the total cost of the optimal path (in distance)\n",
    "nodes, edges, costs, total_cost = find_path(graph, 0, len(A)-1, heuristic_func=heuristic_func)\n",
    "print('Nodes to for optimal path:',nodes)\n",
    "print('Edges:', edges)\n",
    "print('Costs:',costs)\n",
    "print('Total cost:', total_cost)\n",
    "\n",
    "# Change the nodes vector to a vector with the respective coordinates to follow.\n",
    "points = list()\n",
    "for point in nodes:\n",
    "    points.append([B[point][0], B[point][1]])\n",
    "\n",
    "print('Coordinates:',points)"
   ]
  }
 ],
 "metadata": {
  "kernelspec": {
   "display_name": "Python 3 (ipykernel)",
   "language": "python",
   "name": "python3"
  },
  "language_info": {
   "codemirror_mode": {
    "name": "ipython",
    "version": 3
   },
   "file_extension": ".py",
   "mimetype": "text/x-python",
   "name": "python",
   "nbconvert_exporter": "python",
   "pygments_lexer": "ipython3",
   "version": "3.9.9"
  }
 },
 "nbformat": 4,
 "nbformat_minor": 5
}
