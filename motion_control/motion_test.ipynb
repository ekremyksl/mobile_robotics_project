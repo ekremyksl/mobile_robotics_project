{
 "cells": [
  {
   "cell_type": "code",
   "execution_count": 1,
   "metadata": {},
   "outputs": [],
   "source": [
    "import math\n",
    "import numpy as np\n",
    "import matplotlib\n",
    "import os\n",
    "import sys\n",
    "import math\n",
    "from statistics import mean\n",
    "import pandas as pd\n",
    "import matplotlib.pyplot as plt\n",
    "from scipy.interpolate import interp1d\n",
    "import Robothym "
   ]
  },
  {
   "cell_type": "code",
   "execution_count": 13,
   "metadata": {},
   "outputs": [],
   "source": [
    "thym=Robothym.Robothym()\n",
    "thym.setCurrPos((0,0,0))\n",
    "glob=[(1,2),(3,4),(7,8),(6,6)]\n",
    "thym.set_globalpath(glob)\n",
    "x=[]\n",
    "x.append(thym.getCurrPos())\n",
    "i=0\n",
    "node_index=0\n",
    "Ts=0.001\n",
    "thym.set_steptime(0.001)\n",
    "next=glob[0]\n",
    "thym.set_goal(next)\n",
    "\n",
    "while i<30000:\n",
    "    if thym.rho:\n",
    "        if node_index < len(glob) and thym.rho < thym.on_node :  \n",
    "            node_index+=1\n",
    "            next=glob[node_index]\n",
    "            thym.set_goal(next)\n",
    "\n",
    "    thym.ikine()\n",
    "    thym.fkine()\n",
    "    temp=thym.getCurrPos()\n",
    "    x.append(temp)\n",
    "    i+=1\n",
    "\n",
    "x=np.array(x)\n",
    "path=np.array(glob)"
   ]
  },
  {
   "cell_type": "code",
   "execution_count": 14,
   "metadata": {},
   "outputs": [
    {
     "data": {
      "image/png": "[encoded data removed]",
      "text/plain": [
       "<Figure size 432x288 with 1 Axes>"
      ]
     },
     "metadata": {
      "needs_background": "light"
     },
     "output_type": "display_data"
    }
   ],
   "source": [
    "        figg1, (ax1) = plt.subplots()\n",
    "        ax1.plot(path[:,0],path[:,1],'r*',label=\"nodes\")\n",
    "        ax1.plot(x[:,0],x[:,1],'b',label=\"traj\")\n",
    "        ax1.set_xlabel('sampling time')\n",
    "        ax1.set_ylabel('trajectory')\n",
    "        figg1.legend(bbox_to_anchor=(0, 0.8))\n",
    "        plt.show()"
   ]
  },
  {
   "cell_type": "code",
   "execution_count": null,
   "metadata": {},
   "outputs": [],
   "source": [
    "print(x)"
   ]
  }
 ],
 "metadata": {
  "interpreter": {
   "hash": "397554cc01d24179d50f92a09419ff8a996cb3cd81a5b2c064b8ae23238196a0"
  },
  "kernelspec": {
   "display_name": "Python 3.9.7 64-bit",
   "name": "python3"
  },
  "language_info": {
   "codemirror_mode": {
    "name": "ipython",
    "version": 3
   },
   "file_extension": ".py",
   "mimetype": "text/x-python",
   "name": "python",
   "nbconvert_exporter": "python",
   "pygments_lexer": "ipython3",
   "version": "3.9.7"
  },
  "orig_nbformat": 4
 },
 "nbformat": 4,
 "nbformat_minor": 2
}
